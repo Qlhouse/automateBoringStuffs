{
 "cells": [
  {
   "cell_type": "markdown",
   "source": [
    "# Latex syntax rule"
   ],
   "metadata": {}
  },
  {
   "cell_type": "markdown",
   "source": [
    "Using LaTex in line by like this **`$y=x^2$`** or in block like this **`$$y=x^2$$`**."
   ],
   "metadata": {}
  },
  {
   "cell_type": "markdown",
   "source": [
    "# Operators"
   ],
   "metadata": {}
  },
  {
   "cell_type": "markdown",
   "source": [
    "+ **Add**\r\n",
    "\r\n",
    "+ **Subtract**\r\n",
    "\r\n",
    "+ **Multiply**\r\n",
    "  + **`*`**, $x * y$\r\n",
    "  + **`\\times`**, $x \\times y$\r\n",
    "\r\n",
    "+ **Divide**"
   ],
   "metadata": {}
  }
 ],
 "metadata": {
  "orig_nbformat": 4,
  "language_info": {
   "name": "python"
  }
 },
 "nbformat": 4,
 "nbformat_minor": 2
}