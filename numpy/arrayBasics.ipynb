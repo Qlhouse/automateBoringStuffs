{
 "cells": [
  {
   "cell_type": "markdown",
   "source": [
    "An array is a grid of values and it contains information about the raw data, \r\n",
    "how to locate an element, and how to interpret an element. \r\n",
    "\r\n",
    "It has a grid of elements that can be indexed in various ways. The elements \r\n",
    "are all of the same type, referred to as the array **`dtype`**.\r\n",
    "\r\n",
    "An array can be indexed by a tuple of nonnegative integers, by booleans, \r\n",
    "by another array, or by integers.\r\n",
    "\r\n",
    "The **`rank`** of the array is the number of dimensions.\r\n",
    "\r\n",
    "The **`shape`** of the array is a tuple of integers giving the size of the \r\n",
    "array along each dimension."
   ],
   "metadata": {}
  },
  {
   "cell_type": "markdown",
   "source": [
    "# Difference between Python list and NumPy array"
   ],
   "metadata": {}
  },
  {
   "cell_type": "markdown",
   "source": [
    "A Python list can contain different data types within a single list, all of\r\n",
    "the elements in a NumPy array should be homogeneous.\r\n",
    "\r\n",
    "The mathematical operations that are meant to be performed on arrays would\r\n",
    "be extremely inefficient if the arrays weren't homogeneous."
   ],
   "metadata": {}
  },
  {
   "cell_type": "markdown",
   "source": [
    "# Initialize Numpy array"
   ],
   "metadata": {}
  },
  {
   "cell_type": "markdown",
   "source": [
    "The NumPy **`ndarray`** class is used to represent both matrices and vectors.\r\n",
    "\r\n",
    "A **vector** is an array with a single dimension (there's no difference\r\n",
    " between row and column vectors).\r\n",
    "\r\n",
    "A **matrix** refers to an array with two dimensions.\r\n",
    "\r\n",
    "For **3-D** or higher dimensional array, the tern **tensor** is also commonly used"
   ],
   "metadata": {}
  },
  {
   "cell_type": "markdown",
   "source": [
    "An array is usually a fixed-size container of items of the same type and size.\r\n",
    "\r\n",
    "In NumPy, dimensions are called **axes**. For example:\r\n",
    "\r\n",
    "```\r\n",
    "[[0., 0., 0.],\r\n",
    " [1., 1., 1.]]\r\n",
    "```\r\n",
    "\r\n",
    "The array has 2 axes. The first axis has a length of 2 and the second axis\r\n",
    "has a length of 3.\r\n",
    "\r\n",
    "The contents of an array can be accessed and modified by indexing or slicing\r\n",
    "the array."
   ],
   "metadata": {}
  },
  {
   "cell_type": "markdown",
   "source": [
    "# Create arrays"
   ],
   "metadata": {}
  },
  {
   "cell_type": "markdown",
   "source": [
    "## Create basic arrays"
   ],
   "metadata": {}
  },
  {
   "cell_type": "markdown",
   "source": [
    "+ **`np.array()`**\r\n",
    "\r\n",
    "  Create a NumPy array, pass into a list. Return an object **`ndarray`**\r\n",
    "\r\n",
    "+ **`np.zeros()`**\r\n",
    "\r\n",
    "+ **`np.ones()`**\r\n",
    "\r\n",
    "+ **`np.empty()`**\r\n",
    "\r\n",
    "+ **`np.arange()`**\r\n",
    "\r\n",
    "+ **`np.linspace()`**\r\n",
    "\r\n",
    "+ **`dtype`**"
   ],
   "metadata": {}
  },
  {
   "cell_type": "markdown",
   "source": [
    "## Create an array from existing data"
   ],
   "metadata": {}
  },
  {
   "cell_type": "markdown",
   "source": [
    "+ Create a new array from a section of array by using **slice**.\r\n",
    "\r\n",
    "+ Stack two existing arrays\r\n",
    "  + **`np.vstack`**, stack two array vertically\r\n",
    "  + **`np.hstack()`**, stack two array horizontally\r\n",
    "\r\n",
    "+ Splie existing array\r\n",
    "\r\n",
    "  Split an array into several smaller arrays.\r\n",
    "\r\n",
    "+ **`view()`**\r\n",
    "\r\n",
    "+ **`copy()`**\r\n",
    "\r\n",
    "  Make a complete copy of the original array. Deep copy."
   ],
   "metadata": {}
  },
  {
   "cell_type": "markdown",
   "source": [
    "# Create matrices"
   ],
   "metadata": {}
  },
  {
   "cell_type": "markdown",
   "source": [
    "# Shape and size of an array"
   ],
   "metadata": {}
  },
  {
   "cell_type": "markdown",
   "source": [
    "+ **`ndarray.ndim`**\r\n",
    "\r\n",
    "Return the number of axes, or dimensions, of an array.\r\n",
    "\r\n",
    "+ **`ndarray.size`**\r\n",
    "\r\n",
    "Return the total number of elements of the array. This is the product of \r\n",
    "elements of the array's shape.\r\n",
    "\r\n",
    "+ **`ndarray.shape`**\r\n",
    "\r\n",
    "Return a tuple of integers that indicate the number of elements stored along\r\n",
    "each dimension of a array. For example, a 2-D array with **2 rows** and **3 columns**, \r\n",
    "the shape of the array is **`(2, 3)`**."
   ],
   "metadata": {}
  },
  {
   "cell_type": "markdown",
   "source": [
    "## Reshap an array"
   ],
   "metadata": {}
  },
  {
   "cell_type": "markdown",
   "source": [
    "**`arr.reshap()`**\r\n",
    "\r\n",
    "Return a nes shape to an array without changing the data. Remember that when \r\n",
    "using the reshap method, the array you want to produce needs to have the \r\n",
    "same number of elements as the original array."
   ],
   "metadata": {}
  },
  {
   "cell_type": "markdown",
   "source": [
    "# Convert a 1D array into a 2D array"
   ],
   "metadata": {}
  },
  {
   "cell_type": "markdown",
   "source": [
    "+ **`np.newaxis`**\r\n",
    "\r\n",
    "Increase the dimensions of your array by one dimension when used once.\r\n",
    "\r\n",
    "+ **`np.expand_dims`**\r\n",
    "\r\n",
    "Expand an array by increasing a nes axis at a specified position.\r\n",
    "\r\n",
    "```np.expand_dims(a, axis=1)```"
   ],
   "metadata": {}
  },
  {
   "cell_type": "markdown",
   "source": [
    "# Indexing and slicing"
   ],
   "metadata": {}
  },
  {
   "cell_type": "markdown",
   "source": [
    "# Array operations"
   ],
   "metadata": {}
  },
  {
   "cell_type": "markdown",
   "source": [
    "## Arithmetical operations"
   ],
   "metadata": {}
  },
  {
   "cell_type": "markdown",
   "source": [
    "The two array should have the same columns.\r\n",
    "\r\n",
    "+ **`+`**\r\n",
    "\r\n",
    "+ **`-`**\r\n",
    "\r\n",
    "+ **`*`**\r\n",
    "\r\n",
    "+ **`/`**"
   ],
   "metadata": {}
  },
  {
   "cell_type": "markdown",
   "source": [
    "## Aggregation functions"
   ],
   "metadata": {}
  },
  {
   "cell_type": "markdown",
   "source": [
    "\r\n",
    "+ **`data.sum()`**, return sum of the elements in an array.\r\n",
    "\r\n",
    "+ **`data.min()`**, return the minimum element in an array.\r\n",
    " \r\n",
    "+ **`data.max()`**, return the maximum element in an array.\r\n",
    "\r\n",
    "+ **`data.mean()`**\r\n",
    "\r\n",
    "+ **`data.prod()`**"
   ],
   "metadata": {}
  },
  {
   "cell_type": "markdown",
   "source": [
    "## Broadcasting"
   ],
   "metadata": {}
  },
  {
   "cell_type": "markdown",
   "source": [
    "**Broadcasting** describes how NumPy treates arrays with different shapes during \r\n",
    "arithmetic operations.\r\n",
    "\r\n",
    "### General Brocadcasting Rules\r\n",
    "\r\n",
    "When operating on two arrays, NumPy compares their shapes element-wise. It starts \r\n",
    "with the trailing (i.e. rightmost) dimensions and works its way left. The two \r\n",
    "dimensions are compatible when\r\n",
    "\r\n",
    " 1. they are equal, or\r\n",
    " 2. one of them is 1\r\n",
    "\r\n",
    "If these conditions are not met, a `ValueError: operands could not be broadcast together` \r\n",
    "exception is thrown, indicating the arrays have incompatible shapes. \r\n",
    "\r\n",
    "The size of the resulting array is the size that is not 1 along each axis of the inputs.\r\n",
    "\r\n",
    "Arrays do not need to have the same *number* of dimensions. For examples, if you have\r\n",
    "a `256x256x3` array of RGB values, and you want to scale each color in the image by \r\n",
    "different value, you can multiply the image by a one-dimension array with 3 values.\r\n",
    "\r\n",
    "Broadcasting provides a convenient way of taking the **outer product** of two arrays."
   ],
   "metadata": {}
  }
 ],
 "metadata": {
  "orig_nbformat": 4,
  "language_info": {
   "name": "python",
   "version": "3.9.6",
   "mimetype": "text/x-python",
   "codemirror_mode": {
    "name": "ipython",
    "version": 3
   },
   "pygments_lexer": "ipython3",
   "nbconvert_exporter": "python",
   "file_extension": ".py"
  },
  "kernelspec": {
   "name": "python3",
   "display_name": "Python 3.9.6 64-bit"
  },
  "interpreter": {
   "hash": "b0eb88604aa9a2b11beeb850e528ceda8abb9c243508b04548adf4aff4e31bae"
  }
 },
 "nbformat": 4,
 "nbformat_minor": 2
}