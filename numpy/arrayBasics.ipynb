{
 "cells": [
  {
   "cell_type": "markdown",
   "source": [
    "An array is a grid of values and it contains information about the raw data, \r\n",
    "how to locate an element, and how to interpret an element. \r\n",
    "\r\n",
    "It has a grid of elements that can be indexed in various ways. The elements \r\n",
    "are all of the same type, referred to as the array **`dtype`**.\r\n",
    "\r\n",
    "An array can be indexed by a tuple of nonnegative integers, by booleans, \r\n",
    "by another array, or by integers.\r\n",
    "\r\n",
    "The **`rank`** of the array is the number of dimensions.\r\n",
    "\r\n",
    "The **`shape`** of the array is a tuple of integers giving the size of the \r\n",
    "array along each dimension."
   ],
   "metadata": {}
  },
  {
   "cell_type": "markdown",
   "source": [
    "# Difference between Python list and NumPy array"
   ],
   "metadata": {}
  },
  {
   "cell_type": "markdown",
   "source": [
    "A Python list can contain different data types within a single list, all of\r\n",
    "the elements in a NumPy array should be homogeneous.\r\n",
    "\r\n",
    "The mathematical operations that are meant to be performed on arrays would\r\n",
    "be extremely inefficient if the arrays weren't homogeneous."
   ],
   "metadata": {}
  },
  {
   "cell_type": "markdown",
   "source": [
    "# Initialize Numpy array"
   ],
   "metadata": {}
  },
  {
   "cell_type": "markdown",
   "source": [
    "The NumPy **`ndarray`** class is used to represent both matrices and vectors.\r\n",
    "\r\n",
    "A **vector** is an array with a single dimension (there's no difference\r\n",
    " between row and column vectors).\r\n",
    "\r\n",
    "A **matrix** refers to an array with two dimensions.\r\n",
    "\r\n",
    "For **3-D** or higher dimensional array, the tern **tensor** is also commonly used"
   ],
   "metadata": {}
  },
  {
   "cell_type": "markdown",
   "source": [
    "An array is usually a fixed-size container of items of the same type and size.\r\n",
    "\r\n",
    "In NumPy, dimensions are called **axes**. For example:\r\n",
    "\r\n",
    "```\r\n",
    "[[0., 0., 0.],\r\n",
    " [1., 1., 1.]]\r\n",
    "```\r\n",
    "\r\n",
    "The array has 2 axes. The first axis has a length of 2 and the second axis\r\n",
    "has a length of 3.\r\n",
    "\r\n",
    "The contents of an array can be accessed and modified by indexing or slicing\r\n",
    "the array."
   ],
   "metadata": {}
  },
  {
   "cell_type": "markdown",
   "source": [
    "# Create arrays"
   ],
   "metadata": {}
  },
  {
   "cell_type": "markdown",
   "source": [
    "## Convert Python sequences to NumPy array"
   ],
   "metadata": {}
  },
  {
   "cell_type": "markdown",
   "source": [
    "NumPy arrays can be defined using Python sequences such as lists and tuples.\r\n",
    "\r\n",
    "In general, any array object is called an **`ndarray`** in NumPy.\r\n",
    "\r\n",
    "When using **`numpy.array()`** to define a new array, you should consider the \r\n",
    "[dtype](https://numpy.org/doc/stable/user/basics.types.html) of the elements \r\n",
    "in array, which can be specified explicitly. This feature gives you more control \r\n",
    "over the underlying data structures and how the elements are handled in `C/C++` \r\n",
    "functions. \r\n",
    "\r\n",
    "When you perform operations with different **`dtype`**, NumPy will assign a new \r\n",
    "type that satisfies all of the array elements involved in the computation.\r\n",
    "\r\n",
    "The default NumPy behavior is to create arrays either 64-bits signed integers or \r\n",
    "double precision floating point numbers, **`int64`** and **`float`**, respectively. \r\n",
    "If you expect your array to be a certain type, then you need to specify the \r\n",
    "**`dtype`** while you create the arrary."
   ],
   "metadata": {}
  },
  {
   "cell_type": "markdown",
   "source": [
    "## Intrinsic NumPy array creation functions"
   ],
   "metadata": {}
  },
  {
   "cell_type": "markdown",
   "source": [
    "NumPy has over 40 built-in functions for creating arrays as laid out in the \r\n",
    "[Arrary creation routines](https://numpy.org/doc/stable/reference/routines.array-creation.html#routines-array-creation). \r\n",
    "These functions can be split into roughly three categories, based on the \r\n",
    "dimension of the array they create."
   ],
   "metadata": {}
  },
  {
   "cell_type": "markdown",
   "source": [
    "### 1D arrays"
   ],
   "metadata": {}
  },
  {
   "cell_type": "markdown",
   "source": [
    "### 2D arrays"
   ],
   "metadata": {}
  },
  {
   "cell_type": "markdown",
   "source": [
    "### General ndarrays"
   ],
   "metadata": {}
  },
  {
   "cell_type": "markdown",
   "source": [
    "## Replacating, joining, or mutating existing arrays"
   ],
   "metadata": {}
  },
  {
   "cell_type": "markdown",
   "source": [
    "+ Create a new array from a section of array by using **slice** and **stride**.\r\n",
    "\r\n",
    "+ Stack two existing arrays\r\n",
    "  + **`np.vstack`**, stack two array vertically\r\n",
    "  + **`np.hstack()`**, stack two array horizontally\r\n",
    "\r\n",
    "+ Split existing array\r\n",
    "\r\n",
    "  Split an array into several smaller arrays.\r\n",
    "\r\n",
    "+ **`view()`**\r\n",
    "\r\n",
    "+ **`copy()`**\r\n",
    "\r\n",
    "  Make a complete copy of the original array. Deep copy."
   ],
   "metadata": {}
  },
  {
   "cell_type": "markdown",
   "source": [
    "## Reading arrays from disk, either from standard or custom formats"
   ],
   "metadata": {}
  },
  {
   "cell_type": "markdown",
   "source": [
    "[Reading and writing files](https://numpy.org/doc/stable/user/how-to-io.html#how-to-io)"
   ],
   "metadata": {}
  },
  {
   "cell_type": "markdown",
   "source": [
    "### Standard Binary Formats"
   ],
   "metadata": {}
  },
  {
   "cell_type": "markdown",
   "source": [
    "### Common ASCII Formats"
   ],
   "metadata": {}
  },
  {
   "cell_type": "markdown",
   "source": [
    "More generic ASCII files can be read using **`scipy.io`** and **`Pandas`**."
   ],
   "metadata": {}
  },
  {
   "cell_type": "markdown",
   "source": [
    "## Creating arrays from raw bytes through the use of strings or buffers"
   ],
   "metadata": {}
  },
  {
   "cell_type": "markdown",
   "source": [
    "## Use of special library functions"
   ],
   "metadata": {}
  },
  {
   "cell_type": "markdown",
   "source": [
    "+ SciPy\r\n",
    "\r\n",
    "+ Pandas\r\n",
    "\r\n",
    "+ OpenCV"
   ],
   "metadata": {}
  },
  {
   "cell_type": "markdown",
   "source": [
    "# Shape and size of an array"
   ],
   "metadata": {}
  },
  {
   "cell_type": "markdown",
   "source": [
    "+ **`ndarray.ndim`**\r\n",
    "\r\n",
    "Return the number of axes, or dimensions, of an array.\r\n",
    "\r\n",
    "+ **`ndarray.size`**\r\n",
    "\r\n",
    "Return the total number of elements of the array. This is the product of \r\n",
    "elements of the array's shape.\r\n",
    "\r\n",
    "+ **`ndarray.shape`**\r\n",
    "\r\n",
    "Return a tuple of integers that indicate the number of elements stored along\r\n",
    "each dimension of a array. For example, a 2-D array with **2 rows** and **3 columns**, \r\n",
    "the shape of the array is **`(2, 3)`**."
   ],
   "metadata": {}
  },
  {
   "cell_type": "markdown",
   "source": [
    "## Reshap an array"
   ],
   "metadata": {}
  },
  {
   "cell_type": "markdown",
   "source": [
    "**`arr.reshap()`**\r\n",
    "\r\n",
    "Return a nes shape to an array without changing the data. Remember that when \r\n",
    "using the reshap method, the array you want to produce needs to have the \r\n",
    "same number of elements as the original array."
   ],
   "metadata": {}
  },
  {
   "cell_type": "markdown",
   "source": [
    "# Convert a 1D array into a 2D array"
   ],
   "metadata": {}
  },
  {
   "cell_type": "markdown",
   "source": [
    "+ **`np.newaxis`**\r\n",
    "\r\n",
    "Increase the dimensions of your array by one dimension when used once.\r\n",
    "\r\n",
    "+ **`np.expand_dims`**\r\n",
    "\r\n",
    "Expand an array by increasing a nes axis at a specified position.\r\n",
    "\r\n",
    "```np.expand_dims(a, axis=1)```"
   ],
   "metadata": {}
  },
  {
   "cell_type": "markdown",
   "source": [
    "# Indexing and slicing"
   ],
   "metadata": {}
  },
  {
   "cell_type": "markdown",
   "source": [
    "## Single element indexing"
   ],
   "metadata": {}
  },
  {
   "cell_type": "markdown",
   "source": [
    "### 1-D array"
   ],
   "metadata": {}
  },
  {
   "cell_type": "markdown",
   "source": [
    "Single element indexing for a 1-D array os what one expects. It works exactly \r\n",
    "like that for other standard Python sequences. It is 0-based, and accepts \r\n",
    "negative indices for indexing from the end of the array."
   ],
   "metadata": {}
  },
  {
   "cell_type": "markdown",
   "source": [
    "### Multidimensional array"
   ],
   "metadata": {}
  },
  {
   "cell_type": "markdown",
   "source": [
    "NumPy arrays support **multidimensional indexing** for multidimensional arrays."
   ],
   "metadata": {}
  },
  {
   "cell_type": "code",
   "execution_count": 16,
   "source": [
    "import numpy as np\r\n",
    "\r\n",
    "data = np.arange(12).reshape(4, 3)\r\n",
    "\r\n",
    "print(data)\r\n",
    "print(data[1])\r\n",
    "print(data[1, 2])"
   ],
   "outputs": [
    {
     "output_type": "stream",
     "name": "stdout",
     "text": [
      "[[ 0  1  2]\n",
      " [ 3  4  5]\n",
      " [ 6  7  8]\n",
      " [ 9 10 11]]\n",
      "[3 4 5]\n",
      "5\n"
     ]
    }
   ],
   "metadata": {}
  },
  {
   "cell_type": "markdown",
   "source": [
    "Note that if one indexes a multidimensional array with fewer indices than \r\n",
    "dimensions, one gets a subdimensional array. That is, each index specified \r\n",
    "selects the array corresponding to the rest of the dimensions selected.\r\n",
    "\r\n",
    "Note that the returned array is not a copy of the original, but \r\n",
    "points to the same values in memory as does the original array."
   ],
   "metadata": {}
  },
  {
   "cell_type": "markdown",
   "source": [
    "NumPy uses C-order indexing. That menas that the last index \r\n",
    "usually represents the most rapidly changing memory location."
   ],
   "metadata": {}
  },
  {
   "cell_type": "markdown",
   "source": [
    "## Slice and stride"
   ],
   "metadata": {}
  },
  {
   "cell_type": "markdown",
   "source": [
    "Slicing and strading works exactly the same way it does \r\n",
    "for lists and tuples except that they can be applied to \r\n",
    "multiple dimensions."
   ],
   "metadata": {}
  },
  {
   "cell_type": "code",
   "execution_count": 17,
   "source": [
    "import numpy as np\r\n",
    "\r\n",
    "data = np.arange(35).reshape(5, 7)\r\n",
    "\r\n",
    "print(data)\r\n",
    "print(data[1:5:2, ::3])"
   ],
   "outputs": [
    {
     "output_type": "stream",
     "name": "stdout",
     "text": [
      "[[ 0  1  2  3  4  5  6]\n",
      " [ 7  8  9 10 11 12 13]\n",
      " [14 15 16 17 18 19 20]\n",
      " [21 22 23 24 25 26 27]\n",
      " [28 29 30 31 32 33 34]]\n",
      "[[ 7 10 13]\n",
      " [21 24 27]]\n"
     ]
    }
   ],
   "metadata": {}
  },
  {
   "cell_type": "markdown",
   "source": [
    "Note that slices of arrays do not copy the internal array data \r\n",
    "but only produce new views of the original data. \r\n",
    "\r\n",
    "Explicit **`copy()`** is recommended if the original data \r\n",
    "is not required anymore."
   ],
   "metadata": {}
  },
  {
   "cell_type": "markdown",
   "source": [
    "## Index arrays"
   ],
   "metadata": {}
  },
  {
   "cell_type": "markdown",
   "source": [
    "NumPy arrays may be indexed with other arrays (or any sequence-like object \r\n",
    "that can be convert to an array, such as lists, with the exception of\r\n",
    "tuples).\r\n",
    "\r\n",
    "Index arryas must be of integer type. Each value in the array indicates \r\n",
    "which value in the array to use in place of the index."
   ],
   "metadata": {}
  },
  {
   "cell_type": "code",
   "execution_count": 2,
   "source": [
    "import numpy as np\r\n",
    "\r\n",
    "data = np.arange(10, 1, -1)\r\n",
    "\r\n",
    "data[np.array([3, 3, -3, 8])]"
   ],
   "outputs": [
    {
     "output_type": "execute_result",
     "data": {
      "text/plain": [
       "array([7, 7, 4, 2])"
      ]
     },
     "metadata": {},
     "execution_count": 2
    }
   ],
   "metadata": {}
  },
  {
   "cell_type": "markdown",
   "source": [
    "## Index multi-dimensional arrays"
   ],
   "metadata": {}
  },
  {
   "cell_type": "markdown",
   "source": [
    "## Boolean or \"mask\" index arrays"
   ],
   "metadata": {}
  },
  {
   "cell_type": "markdown",
   "source": [
    "Boolean arrays must be of the same shape as the initial dimensions \r\n",
    "of the array being indexed. In the most straightforward case, \r\n",
    "the boolean array has the same shape.\r\n",
    "\r\n",
    "In general, when the boolean array has fewer dimensions than the \r\n",
    "array being indexed, the shape of the result is one dimension \r\n",
    "containing the number of **True** elements of the boolean array. \r\n",
    "\r\n",
    "As show in the following example, using a 2-D boolean arrary of \r\n",
    "shape (2, 3) with four True elements to select rows from a \r\n",
    "3-D array of shape (2, 3, 5) results in a 2-D result of \r\n",
    "shape (4, 5)"
   ],
   "metadata": {}
  },
  {
   "cell_type": "code",
   "execution_count": 10,
   "source": [
    "import numpy as np\r\n",
    "\r\n",
    "data = np.arange(30).reshape(2, 3, 5)\r\n",
    "\r\n",
    "print(data)\r\n",
    "\r\n",
    "b = np.array([[True, True, False], [False, True, True]])\r\n",
    "data[b]"
   ],
   "outputs": [
    {
     "output_type": "stream",
     "name": "stdout",
     "text": [
      "[[[ 0  1  2  3  4]\n",
      "  [ 5  6  7  8  9]\n",
      "  [10 11 12 13 14]]\n",
      "\n",
      " [[15 16 17 18 19]\n",
      "  [20 21 22 23 24]\n",
      "  [25 26 27 28 29]]]\n"
     ]
    },
    {
     "output_type": "execute_result",
     "data": {
      "text/plain": [
       "array([[ 0,  1,  2,  3,  4],\n",
       "       [ 5,  6,  7,  8,  9],\n",
       "       [20, 21, 22, 23, 24],\n",
       "       [25, 26, 27, 28, 29]])"
      ]
     },
     "metadata": {},
     "execution_count": 10
    }
   ],
   "metadata": {}
  },
  {
   "cell_type": "markdown",
   "source": [
    "## Combine index arrays with slices"
   ],
   "metadata": {}
  },
  {
   "cell_type": "markdown",
   "source": [
    "## Structural indexing tools"
   ],
   "metadata": {}
  },
  {
   "cell_type": "markdown",
   "source": [
    "### Ellipsis"
   ],
   "metadata": {}
  },
  {
   "cell_type": "markdown",
   "source": [
    "Ellipsis (**`...`***) expands to the number of **`:`** objects \r\n",
    "needed for the selection tuple to index all dimensions. There \r\n",
    "may only be a single ellipsis present."
   ],
   "metadata": {}
  },
  {
   "cell_type": "markdown",
   "source": [
    "newaxis"
   ],
   "metadata": {}
  },
  {
   "cell_type": "markdown",
   "source": [
    "## Assign values to indexed arrays"
   ],
   "metadata": {}
  },
  {
   "cell_type": "markdown",
   "source": [
    "## Dealing with variable numbers of indices within programs"
   ],
   "metadata": {}
  },
  {
   "cell_type": "markdown",
   "source": [
    "# Array operations"
   ],
   "metadata": {}
  },
  {
   "cell_type": "markdown",
   "source": [
    "## Arithmetical operations"
   ],
   "metadata": {}
  },
  {
   "cell_type": "markdown",
   "source": [
    "The two array should have the same columns.\r\n",
    "\r\n",
    "+ **`+`**\r\n",
    "\r\n",
    "+ **`-`**\r\n",
    "\r\n",
    "+ **`*`**\r\n",
    "\r\n",
    "+ **`/`**"
   ],
   "metadata": {}
  },
  {
   "cell_type": "markdown",
   "source": [
    "## Aggregation functions"
   ],
   "metadata": {}
  },
  {
   "cell_type": "markdown",
   "source": [
    "\r\n",
    "+ **`data.sum()`**, return sum of the elements in an array.\r\n",
    "\r\n",
    "+ **`data.min()`**, return the minimum element in an array.\r\n",
    " \r\n",
    "+ **`data.max()`**, return the maximum element in an array.\r\n",
    "\r\n",
    "+ **`data.mean()`**\r\n",
    "\r\n",
    "+ **`data.prod()`**"
   ],
   "metadata": {}
  },
  {
   "cell_type": "markdown",
   "source": [
    "## Broadcasting"
   ],
   "metadata": {}
  },
  {
   "cell_type": "markdown",
   "source": [
    "**Broadcasting** describes how NumPy treates arrays with different shapes during \r\n",
    "arithmetic operations.\r\n",
    "\r\n",
    "### General Brocadcasting Rules\r\n",
    "\r\n",
    "When operating on two arrays, NumPy compares their shapes element-wise. It starts \r\n",
    "with the trailing (i.e. rightmost) dimensions and works its way left. The two \r\n",
    "dimensions are compatible when\r\n",
    "\r\n",
    " 1. they are equal, or\r\n",
    " 2. one of them is 1\r\n",
    "\r\n",
    "If these conditions are not met, a `ValueError: operands could not be broadcast together` \r\n",
    "exception is thrown, indicating the arrays have incompatible shapes. \r\n",
    "\r\n",
    "The size of the resulting array is the size that is not 1 along each axis of the inputs.\r\n",
    "\r\n",
    "Arrays do not need to have the same *number* of dimensions. For examples, if you have\r\n",
    "a `256x256x3` array of RGB values, and you want to scale each color in the image by \r\n",
    "different value, you can multiply the image by a one-dimension array with 3 values.\r\n",
    "\r\n",
    "Broadcasting provides a convenient way of taking the **outer product** of two arrays."
   ],
   "metadata": {}
  }
 ],
 "metadata": {
  "orig_nbformat": 4,
  "language_info": {
   "name": "python",
   "version": "3.9.6",
   "mimetype": "text/x-python",
   "codemirror_mode": {
    "name": "ipython",
    "version": 3
   },
   "pygments_lexer": "ipython3",
   "nbconvert_exporter": "python",
   "file_extension": ".py"
  },
  "kernelspec": {
   "name": "python3",
   "display_name": "Python 3.9.6 64-bit"
  },
  "interpreter": {
   "hash": "b0eb88604aa9a2b11beeb850e528ceda8abb9c243508b04548adf4aff4e31bae"
  }
 },
 "nbformat": 4,
 "nbformat_minor": 2
}