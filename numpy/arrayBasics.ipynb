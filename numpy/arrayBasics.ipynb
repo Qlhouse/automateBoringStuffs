{
 "cells": [
  {
   "cell_type": "markdown",
   "source": [
    "An array is a grid of values and it contains information about the raw data, \r\n",
    "how to locate an element, and how to interpret an element. \r\n",
    "\r\n",
    "It has a grid of elements that can be indexed in various ways. The elements \r\n",
    "are all of the same type, referred to as the array **`dtype`**.\r\n",
    "\r\n",
    "An array can be indexed by a tuple of nonnegative integers, by booleans, \r\n",
    "by another array, or by integers.\r\n",
    "\r\n",
    "The **`rank`** of the array is the number of dimensions.\r\n",
    "\r\n",
    "The **`shape`** of the array is a tuple of integers giving the size of the \r\n",
    "array along each dimension."
   ],
   "metadata": {}
  },
  {
   "cell_type": "markdown",
   "source": [
    "# Initialize Numpy array"
   ],
   "metadata": {}
  },
  {
   "cell_type": "markdown",
   "source": [
    "The NumPy **`ndarray`** class is used to represent both matrices and vectors.\r\n",
    "\r\n",
    "A **vector** is an array with a single dimension (there's no difference\r\n",
    " between row and column vectors).\r\n",
    "\r\n",
    "A **matrix** refers to an array with two dimensions.\r\n",
    "\r\n",
    "For **3-D** or higher dimensional array, the tern **tensor** is also commonly used"
   ],
   "metadata": {}
  },
  {
   "cell_type": "markdown",
   "source": [
    "An array is usually a fixed-size container of items of the same type and size.\r\n",
    "\r\n",
    "In NumPy, dimensions are called **axes**. For example:\r\n",
    "\r\n",
    "```\r\n",
    "[[0., 0., 0.],\r\n",
    " [1., 1., 1.]]\r\n",
    "```\r\n",
    "\r\n",
    "The array has 2 axes. The first axis has a length of 2 and the second axis\r\n",
    "has a length of 3.\r\n",
    "\r\n",
    "The contents of an array can be accessed and modified by indexing or slicing\r\n",
    "the array."
   ],
   "metadata": {}
  },
  {
   "cell_type": "markdown",
   "source": [
    "# Create basic arrays"
   ],
   "metadata": {}
  },
  {
   "cell_type": "markdown",
   "source": [
    "To create a NumPy array, you can use the function **`np.array()`**. \r\n",
    "\r\n",
    "Pass the function a list.\r\n",
    "\r\n",
    "Return an object **`ndarray`**"
   ],
   "metadata": {}
  },
  {
   "cell_type": "markdown",
   "source": [
    "+ **`np.zeros()`**\r\n",
    "\r\n",
    "+ **`np.ones()`**\r\n",
    "\r\n",
    "+ **`np.empty()`**\r\n",
    "\r\n",
    "+ **`np.arange()`**\r\n",
    "\r\n",
    "+ **`np.linspace()`**\r\n",
    "\r\n",
    "+ **`dtype`**"
   ],
   "metadata": {}
  },
  {
   "cell_type": "markdown",
   "source": [
    "# Shape and size of an array"
   ],
   "metadata": {}
  },
  {
   "cell_type": "markdown",
   "source": [
    "+ **`ndarray.ndim`**\r\n",
    "\r\n",
    "Return the number of axes, or dimensions, of an array.\r\n",
    "\r\n",
    "+ **`ndarray.size`**\r\n",
    "\r\n",
    "Return the total number of elements of the array. This is the product of \r\n",
    "elements of the array's shape.\r\n",
    "\r\n",
    "+ **`ndarray.shape`**\r\n",
    "\r\n",
    "Return a tuple of integers that indicate the number of elements stored along\r\n",
    "each dimension of a array. For example, a 2-D array with **2 rows** and **3 columns**, \r\n",
    "the shape of the array is **`(2, 3)`**."
   ],
   "metadata": {}
  },
  {
   "cell_type": "markdown",
   "source": [
    "## Reshap an array"
   ],
   "metadata": {}
  },
  {
   "cell_type": "markdown",
   "source": [
    "**`arr.reshap()`**\r\n",
    "\r\n",
    "Return a nes shape to an array without changing the data. Remember that when \r\n",
    "using the reshap method, the array you want to produce needs to have the \r\n",
    "same number of elements as the original array."
   ],
   "metadata": {}
  },
  {
   "cell_type": "markdown",
   "source": [
    "# Convert a 1D array into a 2D array"
   ],
   "metadata": {}
  },
  {
   "cell_type": "markdown",
   "source": [
    "+ **`np.newaxis`**\r\n",
    "\r\n",
    "Increase the dimensions of your array by one dimension when used once.\r\n",
    "\r\n",
    "+ **`np.expand_dims`**\r\n",
    "\r\n",
    "Expand an array by increasing a nes axis at a specified position.\r\n",
    "\r\n",
    "```np.expand_dims(a, axis=1)```"
   ],
   "metadata": {}
  },
  {
   "cell_type": "markdown",
   "source": [
    "# Indexing and slicing"
   ],
   "metadata": {}
  },
  {
   "cell_type": "markdown",
   "source": [],
   "metadata": {}
  }
 ],
 "metadata": {
  "orig_nbformat": 4,
  "language_info": {
   "name": "python",
   "version": "3.9.6",
   "mimetype": "text/x-python",
   "codemirror_mode": {
    "name": "ipython",
    "version": 3
   },
   "pygments_lexer": "ipython3",
   "nbconvert_exporter": "python",
   "file_extension": ".py"
  },
  "kernelspec": {
   "name": "python3",
   "display_name": "Python 3.9.6 64-bit"
  },
  "interpreter": {
   "hash": "b0eb88604aa9a2b11beeb850e528ceda8abb9c243508b04548adf4aff4e31bae"
  }
 },
 "nbformat": 4,
 "nbformat_minor": 2
}