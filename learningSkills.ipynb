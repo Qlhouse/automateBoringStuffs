{
 "cells": [
  {
   "cell_type": "markdown",
   "source": [
    "# Illusions of competence"
   ],
   "metadata": {}
  },
  {
   "cell_type": "markdown",
   "source": [
    "1. Seeing information in front of you, such as reading a book, doesn't mean you know it.\r\n",
    "2. Seeing or hearing someone come to a conclusion doesn't mean you know how to get to that conclusion or explain their argument.\r\n",
    "3. Searching for something on Google gives you the illusion that the information is in your brain.\r\n",
    "4. Spending lots of time with material doesn't mean you know it.\r\n",
    "\r\n",
    "> “The person who says he knows what he thinks but cannot express it usually\r\n",
    "does not know what he thinks.”"
   ],
   "metadata": {}
  }
 ],
 "metadata": {
  "orig_nbformat": 4,
  "language_info": {
   "name": "python",
   "version": "3.9.6",
   "mimetype": "text/x-python",
   "codemirror_mode": {
    "name": "ipython",
    "version": 3
   },
   "pygments_lexer": "ipython3",
   "nbconvert_exporter": "python",
   "file_extension": ".py"
  },
  "kernelspec": {
   "name": "python3",
   "display_name": "Python 3.9.6 64-bit"
  },
  "interpreter": {
   "hash": "b0eb88604aa9a2b11beeb850e528ceda8abb9c243508b04548adf4aff4e31bae"
  }
 },
 "nbformat": 4,
 "nbformat_minor": 2
}