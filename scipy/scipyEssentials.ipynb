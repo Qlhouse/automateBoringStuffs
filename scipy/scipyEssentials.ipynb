{
 "cells": [
  {
   "cell_type": "markdown",
   "source": [
    "# SciPy Organization"
   ],
   "metadata": {}
  },
  {
   "cell_type": "markdown",
   "source": [
    "|Subpackage|Description|\r\n",
    "|:---|:---:|\r\n",
    "|**cluster**|Clustering algorithms|\r\n",
    "|**constants**|Physical and mathematical contants|\r\n",
    "|**fftpack**|Fast Fourier Transform routines|\r\n",
    "|**integrade**|Integration and ordinary diferential equation solvers|\r\n",
    "|**interpolate**|Interpolation and smoothing splines|\r\n",
    "|**io**|Input and Output|\r\n",
    "|**linalg**|Linear algebra|\r\n",
    "|**ndimage**|N-dimensional image processing|\r\n",
    "|**odr**|Orthogonal distance regression|\r\n",
    "|**optimize** |Optimization and root-finding routines|\r\n",
    "|**signal**|Signal processing|\r\n",
    "|**sparse**|Sparse matrices and associated routines| \r\n",
    "|**spatial**|Spatial data structures and algorithms|\r\n",
    "|**special**|Special functions|\r\n",
    "|**stats**|Statistical distributions and functions|"
   ],
   "metadata": {}
  },
  {
   "cell_type": "code",
   "execution_count": 2,
   "source": [
    "import numpy as np\r\n",
    "import scipy as sp\r\n",
    "import matplotlib.pyplot as plt"
   ],
   "outputs": [],
   "metadata": {}
  },
  {
   "cell_type": "markdown",
   "source": [
    "## Optimization"
   ],
   "metadata": {}
  },
  {
   "cell_type": "code",
   "execution_count": null,
   "source": [],
   "outputs": [],
   "metadata": {}
  }
 ],
 "metadata": {
  "orig_nbformat": 4,
  "language_info": {
   "name": "python",
   "version": "3.9.6",
   "mimetype": "text/x-python",
   "codemirror_mode": {
    "name": "ipython",
    "version": 3
   },
   "pygments_lexer": "ipython3",
   "nbconvert_exporter": "python",
   "file_extension": ".py"
  },
  "kernelspec": {
   "name": "python3",
   "display_name": "Python 3.9.6 64-bit"
  },
  "interpreter": {
   "hash": "b0eb88604aa9a2b11beeb850e528ceda8abb9c243508b04548adf4aff4e31bae"
  }
 },
 "nbformat": 4,
 "nbformat_minor": 2
}